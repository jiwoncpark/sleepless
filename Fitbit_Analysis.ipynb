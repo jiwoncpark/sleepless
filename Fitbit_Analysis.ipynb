{
 "cells": [
  {
   "cell_type": "code",
   "execution_count": null,
   "metadata": {},
   "outputs": [],
   "source": [
    "import sys\n",
    "sys.path.insert(0, '/home/jwp/stage/python-fitbit')\n",
    "%matplotlib inline\n",
    "import numpy as np\n",
    "import matplotlib.pyplot as plt\n",
    "import fitbit\n",
    "\n",
    "# gather_keys_oauth2.py file needs to be in the same directory. \n",
    "# also needs to install cherrypy: https://pypi.org/project/CherryPy/\n",
    "# pip install CherryPy\n",
    "import gather_keys_oauth2 as Oauth2\n",
    "import pandas as pd \n",
    "import datetime\n",
    "\n",
    "# YOU NEED TO PUT IN YOUR OWN CLIENT_ID AND CLIENT_SECRET\n",
    "CLIENT_ID = \n",
    "CLIENT_SECRET = "
   ]
  },
  {
   "cell_type": "code",
   "execution_count": null,
   "metadata": {},
   "outputs": [],
   "source": [
    "server=Oauth2.OAuth2Server(CLIENT_ID, CLIENT_SECRET)\n",
    "server.browser_authorize()\n",
    "ACCESS_TOKEN=str(server.fitbit.client.session.token['access_token'])\n",
    "REFRESH_TOKEN=str(server.fitbit.client.session.token['refresh_token'])\n",
    "auth2_client=fitbit.Fitbit(CLIENT_ID,CLIENT_SECRET,oauth2=True,access_token=ACCESS_TOKEN,refresh_token=REFRESH_TOKEN)"
   ]
  },
  {
   "cell_type": "code",
   "execution_count": null,
   "metadata": {},
   "outputs": [],
   "source": [
    "auth2_client.API_VERSION"
   ]
  },
  {
   "cell_type": "code",
   "execution_count": null,
   "metadata": {},
   "outputs": [],
   "source": [
    "start_time = pd.datetime(year=2020, month=11, day=14)\n",
    "end_time = pd.datetime.today().date() - datetime.timedelta(days=1)"
   ]
  },
  {
   "cell_type": "code",
   "execution_count": null,
   "metadata": {},
   "outputs": [],
   "source": [
    "def get_heart_rate_data(start_time, end_time):\n",
    "    \"\"\"Get data from Fitbit API\n",
    "    \n",
    "    Parameters\n",
    "    ----------\n",
    "    start_time\n",
    "    end_time\n",
    "        \n",
    "    \"\"\"\n",
    "    date_list = []\n",
    "    df_list = []\n",
    "    all_dates = pd.date_range(start=start_time, end=end_time)\n",
    "    # Loop through the dates to compile dataframes\n",
    "    for one_date in all_dates:\n",
    "        one_date = one_date.date().strftime(\"%Y-%m-%d\")\n",
    "        one_date_data = auth2_client.intraday_time_series('activities/heart', \n",
    "                                                          base_date=one_date, \n",
    "                                                          detail_level='1sec')\n",
    "        df = pd.DataFrame(one_date_data['activities-heart-intraday']['dataset'])\n",
    "        date_list.append(one_date)\n",
    "        df_list.append(df)\n",
    "    # Loop through dataframes to label with dates\n",
    "    final_df_list = []\n",
    "    for date, df in zip(date_list, df_list):\n",
    "        if len(df) == 0:\n",
    "            continue    \n",
    "        df.loc[:, 'date'] = pd.to_datetime(date)\n",
    "        final_df_list.append(df)\n",
    "    # Concat compiled dataframes\n",
    "    final_df = pd.concat(final_df_list, axis = 0)\n",
    "    \n",
    "    ## Optional Making of the data have more detailed timestamp (day and hour instead of day)\n",
    "    hoursDelta = pd.to_datetime(final_df.loc[:, 'time']).dt.hour.apply(lambda x: datetime.timedelta(hours = x))\n",
    "    minutesDelta = pd.to_datetime(final_df.loc[:, 'time']).dt.minute.apply(lambda x: datetime.timedelta(minutes = x))\n",
    "    secondsDelta = pd.to_datetime(final_df.loc[:, 'time']).dt.second.apply(lambda x: datetime.timedelta(seconds = x))\n",
    "    # Getting the date to also have the time of the day\n",
    "    final_df['date'] = final_df['date'] + hoursDelta + minutesDelta + secondsDelta\n",
    "    return final_df"
   ]
  },
  {
   "cell_type": "code",
   "execution_count": null,
   "metadata": {},
   "outputs": [],
   "source": [
    "def get_sleep_data(start_time, end_time):\n",
    "    \"\"\"Get data from Fitbit API\n",
    "    \n",
    "    Parameters\n",
    "    ----------\n",
    "    start_time\n",
    "    end_time\n",
    "        \n",
    "    \"\"\"\n",
    "    date_list = []\n",
    "    df_list = []\n",
    "    stages_df_list = []\n",
    "    allDates = pd.date_range(start=start_time, end =end_time)\n",
    "    for oneDate in allDates:\n",
    "        oneDate = oneDate.date().strftime(\"%Y-%m-%d\")\n",
    "        oneDayData = auth2_client.sleep(date=oneDate)\n",
    "        # get number of minutes for each stage of sleep and such. \n",
    "        if len(oneDayData['sleep']) == 0:\n",
    "            continue\n",
    "        stages_df = pd.DataFrame(oneDayData['summary'])\n",
    "        df = pd.DataFrame(oneDayData['sleep'][0]['minuteData'])\n",
    "        date_list.append(oneDate)\n",
    "        df_list.append(df)\n",
    "        stages_df_list.append(stages_df)\n",
    "\n",
    "    final_df_list = []\n",
    "    final_stages_df_list = []\n",
    "    for date, df, stages_df in zip(date_list, df_list, stages_df_list):\n",
    "        if len(df) == 0:\n",
    "            continue\n",
    "        df.loc[:, 'date'] = pd.to_datetime(date)\n",
    "        stages_df.loc[:, 'date'] = pd.to_datetime(date)\n",
    "        final_df_list.append(df)\n",
    "        final_stages_df_list.append(stages_df)\n",
    "    final_df = pd.concat(final_df_list, axis = 0)\n",
    "    ## Optional Making of the data have more detailed timestamp (day and hour instead of day)\n",
    "    hoursDelta = pd.to_datetime(final_df.loc[:, 'dateTime']).dt.hour.apply(lambda x: datetime.timedelta(hours = x))\n",
    "    minutesDelta = pd.to_datetime(final_df.loc[:, 'dateTime']).dt.minute.apply(lambda x: datetime.timedelta(minutes = x))\n",
    "    secondsDelta = pd.to_datetime(final_df.loc[:, 'dateTime']).dt.second.apply(lambda x: datetime.timedelta(seconds = x))\n",
    "    # Getting the date to also have the time of the day\n",
    "    final_df['date'] = final_df['date'] + hoursDelta + minutesDelta + secondsDelta\n",
    "    final_stages_df = pd.concat(final_stages_df_list, axis = 0)\n",
    "    return final_df, final_stages_df"
   ]
  },
  {
   "cell_type": "code",
   "execution_count": null,
   "metadata": {},
   "outputs": [],
   "source": [
    "def get_sleep_data_recent(start_time, end_time):\n",
    "    \"\"\"Get data from Fitbit API v1.2\n",
    "    \n",
    "    Parameters\n",
    "    ----------\n",
    "    start_time\n",
    "    end_time\n",
    "        \n",
    "    \"\"\"\n",
    "    date_list = []\n",
    "    df_list = []\n",
    "    stages_df_list = []\n",
    "    allDates = pd.date_range(start=start_time, end =end_time)\n",
    "    for oneDate in allDates:\n",
    "        oneDate = oneDate.date().strftime(\"%Y-%m-%d\")\n",
    "        oneDayData = auth2_client.sleep(date=oneDate)\n",
    "        # get number of minutes for each stage of sleep and such.\n",
    "        if len(oneDayData['sleep']) == 0:\n",
    "            continue\n",
    "        #print(oneDayData['summary'])\n",
    "        #print(\"=====\")\n",
    "        #print(oneDayData['sleep'][0]['levels']['data'])\n",
    "        #break\n",
    "        stages_df = pd.DataFrame(oneDayData['summary'])\n",
    "        df = pd.DataFrame(oneDayData['sleep'][0]['levels']['data'])\n",
    "        date_list.append(oneDate)\n",
    "        df_list.append(df)\n",
    "        stages_df_list.append(stages_df)\n",
    "\n",
    "    final_df_list = []\n",
    "    final_stages_df_list = []\n",
    "    for date, df, stages_df in zip(date_list, df_list, stages_df_list):\n",
    "        if len(df) == 0:\n",
    "            continue\n",
    "        df.loc[:, 'date'] = pd.to_datetime(date)\n",
    "        stages_df.loc[:, 'date'] = pd.to_datetime(date)\n",
    "        final_df_list.append(df)\n",
    "        final_stages_df_list.append(stages_df)\n",
    "    final_df = pd.concat(final_df_list, axis = 0)\n",
    "    ## Optional Making of the data have more detailed timestamp (day and hour instead of day)\n",
    "    hoursDelta = pd.to_datetime(final_df.loc[:, 'dateTime']).dt.hour.apply(lambda x: datetime.timedelta(hours = x))\n",
    "    minutesDelta = pd.to_datetime(final_df.loc[:, 'dateTime']).dt.minute.apply(lambda x: datetime.timedelta(minutes = x))\n",
    "    secondsDelta = pd.to_datetime(final_df.loc[:, 'dateTime']).dt.second.apply(lambda x: datetime.timedelta(seconds = x))\n",
    "    # Getting the date to also have the time of the day\n",
    "    final_df['date'] = final_df['date'] + hoursDelta + minutesDelta + secondsDelta\n",
    "    final_stages_df = pd.concat(final_stages_df_list, axis = 0)\n",
    "    return final_df, final_stages_df"
   ]
  },
  {
   "cell_type": "code",
   "execution_count": null,
   "metadata": {},
   "outputs": [],
   "source": [
    "#sleep_recent, sleep_stages_recent = get_sleep_data_recent(start_time, end_time)\n",
    "sleep_recent.to_csv('sleep_recent.csv', index=None)\n",
    "sleep_stages_recent.to_csv('sleep_stages_recent.csv', index=None)"
   ]
  },
  {
   "cell_type": "code",
   "execution_count": null,
   "metadata": {},
   "outputs": [],
   "source": [
    "sleep_recent['level'].unique()"
   ]
  },
  {
   "cell_type": "code",
   "execution_count": null,
   "metadata": {},
   "outputs": [],
   "source": [
    "level_map = {'awake': 4, 'wake': 4, 'rem': 3, 'light': 2, 'deep': 1, 'asleep': -1}\n",
    "sleep_recent['level'] = sleep_recent['level'].map(level_map)"
   ]
  },
  {
   "cell_type": "code",
   "execution_count": null,
   "metadata": {},
   "outputs": [],
   "source": [
    "#heart_rate = get_heart_rate_data(start_time, end_time)\n",
    "#heart_rate.to_csv('heart_rate.csv', index=None)\n",
    "heart_rate = pd.read_csv('heart_rate.csv', index_col=None)\n",
    "heart_rate['date'] = pd.to_datetime(heart_rate['date'])"
   ]
  },
  {
   "cell_type": "code",
   "execution_count": null,
   "metadata": {},
   "outputs": [],
   "source": [
    "heart_rate.head()"
   ]
  },
  {
   "cell_type": "code",
   "execution_count": null,
   "metadata": {},
   "outputs": [],
   "source": [
    "sleep, sleep_stages = get_sleep_data(start_time, end_time)\n",
    "sleep.to_csv('sleep.csv', index=None)\n",
    "sleep_stages.to_csv('sleep_stages.csv', index=None)\n",
    "sleep = pd.read_csv('sleep.csv', index_col=None)\n",
    "sleep['date'] = pd.to_datetime(sleep['date'])"
   ]
  },
  {
   "cell_type": "code",
   "execution_count": null,
   "metadata": {},
   "outputs": [],
   "source": [
    "plot_start = pd.datetime(year=2020, month=11, day=23)\n",
    "plot_end = pd.datetime(year=2020, month=12, day=26)\n",
    "\n",
    "two_days_hr = heart_rate.loc[heart_rate.loc[:, 'date'].between(plot_start, plot_end), :]\n",
    "two_days_sl = sleep_recent.loc[sleep_recent.loc[:, 'date'].between(plot_start, plot_end), :]"
   ]
  },
  {
   "cell_type": "code",
   "execution_count": null,
   "metadata": {},
   "outputs": [],
   "source": [
    "sleep_recent.dtypes"
   ]
  },
  {
   "cell_type": "code",
   "execution_count": null,
   "metadata": {},
   "outputs": [],
   "source": [
    "two_days_hr.plot('date', 'value')\n",
    "two_days_sl.plot('date', 'level')\n",
    "plt.legend('')"
   ]
  },
  {
   "cell_type": "code",
   "execution_count": null,
   "metadata": {},
   "outputs": [],
   "source": [
    "joined = two_days_hr.merge(two_days_sl, left_on='date', right_on='date', suffixes=('_hr', '_sl'), how='inner')"
   ]
  },
  {
   "cell_type": "code",
   "execution_count": null,
   "metadata": {},
   "outputs": [],
   "source": [
    "joined.shape"
   ]
  },
  {
   "cell_type": "code",
   "execution_count": null,
   "metadata": {},
   "outputs": [],
   "source": [
    "import matplotlib\n",
    "plt.close('all')\n",
    "fig, ax = plt.subplots(figsize=(14, 7))\n",
    "\n",
    "dates = matplotlib.dates.date2num(joined.date.values)\n",
    "ax.plot_date(dates, joined.level.values, marker='.')\n",
    "ax.plot_date(dates, joined.value.values, marker='.')\n"
   ]
  },
  {
   "cell_type": "code",
   "execution_count": null,
   "metadata": {},
   "outputs": [],
   "source": [
    "plt.scatter(joined.level.values, joined.value.values)"
   ]
  },
  {
   "cell_type": "code",
   "execution_count": null,
   "metadata": {},
   "outputs": [],
   "source": [
    "joined.loc[joined['level']==1, 'value'].values"
   ]
  },
  {
   "cell_type": "code",
   "execution_count": null,
   "metadata": {},
   "outputs": [],
   "source": [
    "data = [joined.loc[joined['level']==l, 'value'].values for l in [1, 2, 3, 4]]\n",
    "fig7, ax7 = plt.subplots()\n",
    "ax7.set_title('Heart rate binned by sleep stages', fontsize=15)\n",
    "ax7.boxplot(data)\n",
    "ax7.set_xticks([1, 2, 3, 4])\n",
    "ax7.set_xticklabels(['Deep', 'Light', 'REM', 'Awake'], rotation=45, fontsize=15)\n",
    "ax7.set_ylabel('Heart rate (bpm)', fontsize=15)\n",
    "plt.show()"
   ]
  },
  {
   "cell_type": "code",
   "execution_count": null,
   "metadata": {},
   "outputs": [],
   "source": [
    "fig, ax = plt.subplots(figsize=(10, 7))\n",
    "\n",
    "# Taken from: https://stackoverflow.com/questions/16266019/python-pandas-group-datetime-column-into-hour-and-minute-aggregations\n",
    "times = pd.to_datetime(two_days_hr['date'])\n",
    "two_days_hr.groupby([times.dt.date,times.dt.hour]).value.mean().plot(ax=ax)\n",
    "two_days_sl.groupby([times.dt.date,times.dt.hour]).value.max().plot(ax=ax)\n",
    "\n",
    "ax.grid(True,\n",
    "    axis = 'both',\n",
    "    zorder = 0,\n",
    "    linestyle = ':',\n",
    "    color = 'k')\n",
    "ax.tick_params(axis = 'both', rotation=45, labelsize=20)\n",
    "ax.set_xlabel('Date, Hour', fontsize=24)\n",
    "ax.set_ylabel('Heart Rate', fontsize=24)\n",
    "fig.tight_layout()\n",
    "#fig.savefig('coupledaysavergedByMin.png', format = 'png', dpi = 300)"
   ]
  },
  {
   "cell_type": "code",
   "execution_count": null,
   "metadata": {},
   "outputs": [],
   "source": []
  }
 ],
 "metadata": {
  "kernelspec": {
   "display_name": "Python (baobab)",
   "language": "python",
   "name": "baobab"
  },
  "language_info": {
   "codemirror_mode": {
    "name": "ipython",
    "version": 3
   },
   "file_extension": ".py",
   "mimetype": "text/x-python",
   "name": "python",
   "nbconvert_exporter": "python",
   "pygments_lexer": "ipython3",
   "version": "3.6.10"
  }
 },
 "nbformat": 4,
 "nbformat_minor": 2
}
